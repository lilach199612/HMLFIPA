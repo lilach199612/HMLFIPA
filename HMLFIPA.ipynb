{
 "cells": [
  {
   "cell_type": "markdown",
   "metadata": {},
   "source": [
    "# Harnessing Machine Learning for interpersonal physical alignment"
   ]
  },
  {
   "cell_type": "markdown",
   "metadata": {},
   "source": [
    "# organize the data"
   ]
  },
  {
   "cell_type": "code",
   "execution_count": 8,
   "metadata": {},
   "outputs": [],
   "source": [
    "import pandas as ps\n",
    "from pandas import Series, DataFrame\n",
    "import warnings\n",
    "warnings.filterwarnings(\"ignore\")\n",
    "\n",
    "df1 = ps.read_csv('Sachar636771045591258071Spontan.csv')\n",
    "df2 = ps.read_csv('Sachar636771046527112972Sync.csv')\n",
    "df3 = ps.read_csv('Sachar636771047408504303Alone.csv')\n",
    "df1[\"name\"]=Series([\"shachar\"]);\n",
    "df1[\"name\"].fillna(\"shachar\",inplace=True)\n",
    "df1=df1.ix[700:]\n",
    "df2[\"name\"]=Series([\"shachar\"]);\n",
    "df2[\"name\"].fillna(\"shachar\",inplace=True)\n",
    "df2=df2.ix[700:]\n",
    "df3[\"name\"]=Series([\"shachar\"]);\n",
    "df3[\"name\"].fillna(\"shachar\",inplace=True)\n",
    "df3=df3.ix[700:]\n",
    "\n",
    "df4 = ps.read_csv('Evyatar636771052727603804Spontan.csv')\n",
    "df5 = ps.read_csv('Evyatar636771053639929594Sync.csv')\n",
    "df6 = ps.read_csv('Evyatar636771054555711409Alone.csv')\n",
    "df4[\"name\"]=Series([\"Evyatar\"]);\n",
    "df4[\"name\"].fillna(\"Evyatar\",inplace=True)\n",
    "df4=df4.ix[700:]\n",
    "df5[\"name\"]=Series([\"Evyatar\"]);\n",
    "df5[\"name\"].fillna(\"Evyatar\",inplace=True)\n",
    "df5=df5.ix[700:]\n",
    "df6[\"name\"]=Series([\"Evyatar\"]);\n",
    "df6[\"name\"].fillna(\"Evyatar\",inplace=True)\n",
    "df6=df6.ix[700:]\n",
    "\n",
    "df7 = ps.read_csv('Shelly636759787508979097Spontan.csv')\n",
    "df8 = ps.read_csv('Shelly636759789526313406Sync.csv')\n",
    "df9 = ps.read_csv('Shelly636759788383205274Alone.csv')\n",
    "df7[\"name\"]=Series([\"shelly\"]);\n",
    "df7[\"name\"].fillna(\"shelly\",inplace=True)\n",
    "df7=df7.ix[700:]\n",
    "df8[\"name\"]=Series([\"shelly\"]);\n",
    "df8[\"name\"].fillna(\"shelly\",inplace=True)\n",
    "df8=df8.ix[700:]\n",
    "df9[\"name\"]=Series([\"shelly\"]);\n",
    "df9[\"name\"].fillna(\"shelly\",inplace=True)\n",
    "df9=df9.ix[700:]\n",
    "\n",
    "df10 = ps.read_csv('Yael636771059544754823Spontan.csv')\n",
    "df11 = ps.read_csv('Yael636771060699529085Sync.csv')\n",
    "df12 = ps.read_csv('Yael636771061659067649Alone.csv')\n",
    "df10[\"name\"]=Series([\"yael\"]);\n",
    "df10[\"name\"].fillna(\"yael\",inplace=True)\n",
    "df10=df10.ix[700:]\n",
    "df11[\"name\"]=Series([\"yael\"]);\n",
    "df11[\"name\"].fillna(\"yael\",inplace=True)\n",
    "df11=df11.ix[700:]\n",
    "df12[\"name\"]=Series([\"yael\"]);\n",
    "df12[\"name\"].fillna(\"yael\",inplace=True)\n",
    "df12=df12.ix[700:]\n",
    "\n",
    "df13 = ps.read_csv('Nofar636759795182793299Spontan.csv')\n",
    "df14 = ps.read_csv('Nofar636759797397919664Sync.csv')\n",
    "df15 = ps.read_csv('Nofar636759796290435160Alone.csv')\n",
    "df13[\"name\"]=Series([\"Nofar\"]);\n",
    "df13[\"name\"].fillna(\"Nofar\",inplace=True)\n",
    "df13=df13.ix[700:]\n",
    "df14[\"name\"]=Series([\"Nofar\"]);\n",
    "df14[\"name\"].fillna(\"Nofar\",inplace=True)\n",
    "df14=df14.ix[700:]\n",
    "df15[\"name\"]=Series([\"Nofar\"]);\n",
    "df15[\"name\"].fillna(\"Nofar\",inplace=True)\n",
    "df15=df15.ix[700:]\n",
    "\n",
    "df16 = ps.read_csv('Oriya636759804404113837Spontan.csv')\n",
    "df17 = ps.read_csv('Oriya636759806131350399Sync.csv')\n",
    "df18 = ps.read_csv('Oriya636759805268396661Alone.csv')\n",
    "df16[\"name\"]=Series([\"Oriya\"]);\n",
    "df16[\"name\"].fillna(\"Oriya\",inplace=True)\n",
    "df5=df5.ix[700:]\n",
    "df17[\"name\"]=Series([\"Oriya\"]);\n",
    "df17[\"name\"].fillna(\"Oriya\",inplace=True)\n",
    "df5=df5.ix[700:]\n",
    "df18[\"name\"]=Series([\"Oriya\"]);\n",
    "df18[\"name\"].fillna(\"Oriya\",inplace=True)\n",
    "df5=df5.ix[700:]\n",
    "\n",
    "df19 = ps.read_csv('OryaB636771083605535985Spontan.csv')\n",
    "df20 = ps.read_csv('OryaB636771084494502229Sync.csv')\n",
    "df21 = ps.read_csv('OryaB636771082736601528Alone.csv')\n",
    "df19[\"name\"]=Series([\"Orya\"]);\n",
    "df19[\"name\"].fillna(\"Orya\",inplace=True)\n",
    "df19=df19.ix[700:]\n",
    "df20[\"name\"]=Series([\"Orya\"]);\n",
    "df20[\"name\"].fillna(\"Orya\",inplace=True)\n",
    "df20=df20.ix[700:]\n",
    "df21[\"name\"]=Series([\"Orya\"]);\n",
    "df21[\"name\"].fillna(\"Orya\",inplace=True)\n",
    "df21=df21.ix[700:]\n",
    "\n",
    "df22 = ps.read_csv('Revital636770957038873193Spontan.csv')\n",
    "df23 = ps.read_csv('Revital636770957894370062Sync.csv')\n",
    "df24 = ps.read_csv('Revital636770955999435879Alone.csv')\n",
    "df22[\"name\"]=Series([\"Revital\"]);\n",
    "df22[\"name\"].fillna(\"Revital\",inplace=True)\n",
    "df22=df22.ix[700:]\n",
    "df23[\"name\"]=Series([\"Revital\"]);\n",
    "df23[\"name\"].fillna(\"Revital\",inplace=True)\n",
    "df23=df23.ix[700:]\n",
    "df24[\"name\"]=Series([\"Revital\"]);\n",
    "df24[\"name\"].fillna(\"Revital\",inplace=True)\n",
    "df24=df24.ix[700:]\n",
    "\n",
    "df25 = ps.read_csv('Yoel636760921663075813Spontan.csv')\n",
    "df26 = ps.read_csv('Yoel636760923490742912Sync.csv')\n",
    "df27 = ps.read_csv('Yoel636760922573364655Alone.csv')\n",
    "df25[\"name\"]=Series([\"Orya\"]);\n",
    "df25[\"name\"].fillna(\"Orya\",inplace=True)\n",
    "df25=df25.ix[700:]\n",
    "df26[\"name\"]=Series([\"Orya\"]);\n",
    "df26[\"name\"].fillna(\"Orya\",inplace=True)\n",
    "df26=df26.ix[700:]\n",
    "df27[\"name\"]=Series([\"Orya\"]);\n",
    "df27[\"name\"].fillna(\"Orya\",inplace=True)\n",
    "df27=df27.ix[700:]\n",
    "\n",
    "#Spontan\n",
    "frameSpontan = [df1, df4, df7, df10, df13, df16, df19,df22, df25]\n",
    "ptrain = ps.concat(frameSpontan)\n",
    "ptrain[\"Experiment\"]=Series([\"3\"]);\n",
    "ptrain[\"Experiment\"].fillna(\"3\",inplace=True)\n",
    "\n",
    "#Sync\n",
    "frameSync = [df2, df6, df9, df11, df14, df17, df20, df23, df26]\n",
    "strain = ps.concat(frameSync)\n",
    "strain[\"Experiment\"]=Series([\"2\"]);\n",
    "strain[\"Experiment\"].fillna(\"2\",inplace=True)\n",
    "\n",
    "#Alone\n",
    "handright = ps.read_csv('HandRight.csv')\n",
    "frameAlone = [df3, df5, df8, df12, df15, df18, df21, df24, df27,handright]\n",
    "atrain = ps.concat(frameAlone)\n",
    "atrain[\"Experiment\"]=Series([\"1\"]);\n",
    "atrain[\"Experiment\"].fillna(\"1\",inplace=True)\n",
    "\n",
    "frames = [ptrain, strain, atrain]\n",
    "final = ps.concat(frames)\n",
    "final[\" Hand Type\"]=Series([1 if i==\"right\" else 2 for i in final[\" Hand Type\"]])\n",
    "final=final.set_index(\" Frame ID\")\n",
    "dfright=final[final[\" Hand Type\"]==1]\n",
    "dfleft=final[final[\" Hand Type\"]==2]\n",
    "train=ps.merge(dfleft, dfright, left_index=True, right_index=True)\n",
    "train=train.drop([\"name_y\",\"Experiment_y\"],axis=1)"
   ]
  },
  {
   "cell_type": "code",
   "execution_count": 9,
   "metadata": {},
   "outputs": [],
   "source": [
    "#organize the data of the test\n",
    "df28 = ps.read_csv('Yoel636760921663075813Spontan.csv')\n",
    "df29 = ps.read_csv('Yoel636760923490742912Sync.csv')\n",
    "df30 = ps.read_csv('Yoel636760922573364655Alone.csv')\n",
    "df28[\"name\"]=Series([\"Orya\"]);\n",
    "df28[\"name\"].fillna(\"Orya\",inplace=True)\n",
    "df29[\"name\"]=Series([\"Orya\"]);\n",
    "df29[\"name\"].fillna(\"Orya\",inplace=True)\n",
    "df30[\"name\"]=Series([\"Orya\"]);\n",
    "df30[\"name\"].fillna(\"Orya\",inplace=True)\n",
    "\n",
    "df31 = ps.read_csv('Yoel636760921663075813Spontan.csv')\n",
    "df32 = ps.read_csv('Yoel636760923490742912Sync.csv')\n",
    "df33 = ps.read_csv('Yoel636760922573364655Alone.csv')\n",
    "df31[\"name\"]=Series([\"Orya\"]);\n",
    "df31[\"name\"].fillna(\"Orya\",inplace=True)\n",
    "df32[\"name\"]=Series([\"Orya\"]);\n",
    "df32[\"name\"].fillna(\"Orya\",inplace=True)\n",
    "df33[\"name\"]=Series([\"Orya\"]);\n",
    "df33[\"name\"].fillna(\"Orya\",inplace=True)\n",
    "\n",
    "df34 = ps.read_csv('Yoel636760921663075813Spontan.csv')\n",
    "df35 = ps.read_csv('Yoel636760923490742912Sync.csv')\n",
    "df36 = ps.read_csv('Yoel636760922573364655Alone.csv')\n",
    "df34[\"name\"]=Series([\"Orya\"]);\n",
    "df34[\"name\"].fillna(\"Orya\",inplace=True)\n",
    "df35[\"name\"]=Series([\"Orya\"]);\n",
    "df35[\"name\"].fillna(\"Orya\",inplace=True)\n",
    "df36[\"name\"]=Series([\"Orya\"]);\n",
    "df36[\"name\"].fillna(\"Orya\",inplace=True)\n",
    "\n",
    "#Spontan\n",
    "frames = [df28, df31, df34]\n",
    "ptest = ps.concat(frames)\n",
    "ptest[\"Experiment\"]=Series([\"3\"]);\n",
    "ptest[\"Experiment\"].fillna(\"3\",inplace=True)\n",
    "\n",
    "#Sync\n",
    "frames = [df29, df32, df35]\n",
    "stest = ps.concat(frames)\n",
    "stest[\"Experiment\"]=Series([\"2\"]);\n",
    "stest[\"Experiment\"].fillna(\"2\",inplace=True)\n",
    "\n",
    "#Alone\n",
    "handright = df34 = ps.read_csv('HandRight.csv')\n",
    "frames = [df30, df33, df36, handright]\n",
    "atest = ps.concat(frames)\n",
    "atest[\"Experiment\"]=Series([\"1\"]);\n",
    "atest[\"Experiment\"].fillna(\"1\",inplace=True)\n",
    "\n",
    "frames = [ptest, stest, atest]\n",
    "final = ps.concat(frames)\n",
    "final[\" Hand Type\"]=Series([1 if i==\"right\" else 2 for i in final[\" Hand Type\"]])\n",
    "final=final.set_index(\" Frame ID\")\n",
    "dfright=final[final[\" Hand Type\"]==1]\n",
    "dfleft=final[final[\" Hand Type\"]==2]\n",
    "test=ps.merge(dfleft, dfright, left_index=True, right_index=True,sort=True)\n",
    "test=test.drop([\"name_y\",\"Experiment_y\"],axis=1)"
   ]
  },
  {
   "cell_type": "code",
   "execution_count": 3,
   "metadata": {},
   "outputs": [
    {
     "ename": "SyntaxError",
     "evalue": "invalid syntax (<ipython-input-3-852e9e5b44fc>, line 3)",
     "output_type": "error",
     "traceback": [
      "\u001b[1;36m  File \u001b[1;32m\"<ipython-input-3-852e9e5b44fc>\"\u001b[1;36m, line \u001b[1;32m3\u001b[0m\n\u001b[1;33m    y = train[train['Experiment_x']==1][' Position Y_x']\u001b[0m\n\u001b[1;37m    ^\u001b[0m\n\u001b[1;31mSyntaxError\u001b[0m\u001b[1;31m:\u001b[0m invalid syntax\n"
     ]
    }
   ],
   "source": [
    "\n",
    "trace1 = go.Scatter3d(\n",
    "    x = train[train['Experiment_x']==1][' Position X_x']\n",
    "    y = train[train['Experiment_x']==1][' Position Y_x']\n",
    "    z = train[train['Experiment_x']==1][' Position Z_x']\n",
    "    mode='markers',marker=dict(color='rgb(217, 100, 100)',size=12,line=dict(color='rgb(255, 255, 255)',width=0.1)))\n",
    "\n",
    "trace2 = go.Scatter3d(\n",
    "    x = train[train['Experiment_x']==2][' Position X_x']\n",
    "    y = train[train['Experiment_x']==2][' Position Y_x']\n",
    "    z = train[train['Experiment_x']==2][' Position Z_x']\n",
    "    mode='markers',marker=dict(color='rgb(54, 170, 127)',size=12,line=dict(color='rgb(204, 204, 204)',width=0.1)))\n",
    "\n",
    "trace3 = go.Scatter3d(\n",
    "    x = train[train['Experiment_x']==3][' Position X_x']\n",
    "    y = train[train['Experiment_x']==3][' Position Y_x']\n",
    "    z = train[train['Experiment_x']==3][' Position Z_x']\n",
    "    mode='markers',marker=dict(color='rgb(54, 170, 127)',size=12,line=dict(color='rgb(204, 204, 204)',width=0.1)))\n",
    "\n",
    "\n",
    "data = [trace1, trace2, trace3]\n",
    "layout = go.Layout(margin=dict(l=0,r=0,b=0,t=0))\n",
    "\n",
    "fig = go.Figure(data=data, layout=layout)\n",
    "iplot(fig)"
   ]
  },
  {
   "cell_type": "code",
   "execution_count": 10,
   "metadata": {},
   "outputs": [
    {
     "data": {
      "image/png": "[encoded data removed]",
      "text/plain": [
       "<Figure size 432x288 with 1 Axes>"
      ]
     },
     "metadata": {
      "needs_background": "light"
     },
     "output_type": "display_data"
    }
   ],
   "source": [
    "from mpl_toolkits.mplot3d import Axes3D\n",
    "\n",
    "import matplotlib.pyplot as plt\n",
    "import numpy as np\n",
    "\n",
    "fig = plt.figure()\n",
    "ax = fig.add_subplot(111, projection='3d')\n",
    "\n",
    "x = train[' Position X_x']\n",
    "y = train[' Position Y_x']\n",
    "z = train[' Position Z_x']\n",
    "ax.scatter(x, y, z)\n",
    "\n",
    "ax.set_xlabel('X Label')\n",
    "ax.set_ylabel('Y Label')\n",
    "ax.set_zlabel('Z Label')\n",
    "\n",
    "plt.show()"
   ]
  },
  {
   "cell_type": "code",
   "execution_count": 3,
   "metadata": {},
   "outputs": [
    {
     "name": "stdout",
     "output_type": "stream",
     "text": [
      "Training FeatureSet: (156373, 42)\n",
      "Training Labels: (156373,)\n",
      "Testing FeatureSet: (38799, 42)\n",
      "Testing Labels: (38799,)\n"
     ]
    }
   ],
   "source": [
    "train=train.dropna()\n",
    "test=test.dropna()\n",
    "X_train=train[['Time_x', ' Hand Type_x', ' # hands_x', ' Position X_x',\n",
    "       ' Position Y_x', ' Position Z_x', ' Velocity X_x', ' Velocity Y_x',\n",
    "       ' Velocity Z_x', ' Pitch_x', ' Roll_x', ' Yaw_x', ' Wrist Pos X_x',\n",
    "       ' Wrist Pos Y_x', ' Wrist Pos Z_x', ' Elbow pos X_x', ' Elbow Pos Y_x',\n",
    "       ' Elbow Pos Z_x', ' Grab Strenth_x', ' Grab Angle_x',\n",
    "       ' Pinch Strength_x', 'Time_y', ' Hand Type_y',\n",
    "       ' # hands_y', ' Position X_y', ' Position Y_y', ' Position Z_y',\n",
    "       ' Velocity X_y', ' Velocity Y_y', ' Velocity Z_y', ' Pitch_y',\n",
    "       ' Roll_y', ' Yaw_y', ' Wrist Pos X_y', ' Wrist Pos Y_y',\n",
    "       ' Wrist Pos Z_y', ' Elbow pos X_y', ' Elbow Pos Y_y', ' Elbow Pos Z_y',\n",
    "       ' Grab Strenth_y', ' Grab Angle_y', ' Pinch Strength_y']]\n",
    "y_train=train['Experiment_x']\n",
    "X_test=test[['Time_x', ' Hand Type_x', ' # hands_x', ' Position X_x',\n",
    "       ' Position Y_x', ' Position Z_x', ' Velocity X_x', ' Velocity Y_x',\n",
    "       ' Velocity Z_x', ' Pitch_x', ' Roll_x', ' Yaw_x', ' Wrist Pos X_x',\n",
    "       ' Wrist Pos Y_x', ' Wrist Pos Z_x', ' Elbow pos X_x', ' Elbow Pos Y_x',\n",
    "       ' Elbow Pos Z_x', ' Grab Strenth_x', ' Grab Angle_x',\n",
    "       ' Pinch Strength_x', 'Time_y', ' Hand Type_y',\n",
    "       ' # hands_y', ' Position X_y', ' Position Y_y', ' Position Z_y',\n",
    "       ' Velocity X_y', ' Velocity Y_y', ' Velocity Z_y', ' Pitch_y',\n",
    "       ' Roll_y', ' Yaw_y', ' Wrist Pos X_y', ' Wrist Pos Y_y',\n",
    "       ' Wrist Pos Z_y', ' Elbow pos X_y', ' Elbow Pos Y_y', ' Elbow Pos Z_y',\n",
    "       ' Grab Strenth_y', ' Grab Angle_y', ' Pinch Strength_y']]\n",
    "y_test=test['Experiment_x']\n",
    "print(\"Training FeatureSet:\", X_train.shape)\n",
    "print(\"Training Labels:\", y_train.shape)\n",
    "print(\"Testing FeatureSet:\", X_test.shape)\n",
    "print(\"Testing Labels:\", y_test.shape)"
   ]
  },
  {
   "cell_type": "markdown",
   "metadata": {},
   "source": [
    "# naive_bayes"
   ]
  },
  {
   "cell_type": "code",
   "execution_count": 5,
   "metadata": {},
   "outputs": [
    {
     "name": "stdout",
     "output_type": "stream",
     "text": [
      "test score: 0.8313616330317791\n",
      "train score: 0.5287677540240323\n"
     ]
    }
   ],
   "source": [
    "from sklearn.naive_bayes import GaussianNB\n",
    "clf = GaussianNB(var_smoothing=1.9)\n",
    "clf=clf.fit(X_train,y_train)\n",
    "print(\"test score:\",clf.score(X_test,y_test))\n",
    "print(\"train score:\",clf.score(X_train,y_train))"
   ]
  },
  {
   "cell_type": "raw",
   "metadata": {},
   "source": [
    "**the parameters i change**\n",
    "var_smoothing : Portion of the largest variance of all features that is added to variances for calculation stability."
   ]
  },
  {
   "cell_type": "code",
   "execution_count": 6,
   "metadata": {},
   "outputs": [
    {
     "data": {
      "text/plain": [
       "GaussianNB(priors=None, var_smoothing=1.9)"
      ]
     },
     "execution_count": 6,
     "metadata": {},
     "output_type": "execute_result"
    }
   ],
   "source": [
    "GaussianNB(var_smoothing=1.9)"
   ]
  },
  {
   "cell_type": "code",
   "execution_count": 10,
   "metadata": {},
   "outputs": [
    {
     "name": "stdout",
     "output_type": "stream",
     "text": [
      "Score from the PCA\n",
      "test score: 0.3277661795407098\n",
      "train score: 0.29456491849615984\n"
     ]
    }
   ],
   "source": [
    "from sklearn.decomposition import PCA\n",
    "pca = PCA()\n",
    "pca.fit(X_train)\n",
    "X_t_train = pca.transform(X_train)\n",
    "X_t_test = pca.transform(X_test)\n",
    "print(\"Score from the PCA\")\n",
    "print(\"test score:\",clf.score(X_t_test,y_test))\n",
    "print(\"train score:\",clf.score(X_t_train,y_train))"
   ]
  },
  {
   "cell_type": "markdown",
   "metadata": {},
   "source": [
    "# ADABOOST"
   ]
  },
  {
   "cell_type": "code",
   "execution_count": 11,
   "metadata": {},
   "outputs": [
    {
     "name": "stdout",
     "output_type": "stream",
     "text": [
      "test score: 0.6601716539086059\n",
      "train score: 0.8602188357325113\n"
     ]
    }
   ],
   "source": [
    "from sklearn.ensemble import AdaBoostClassifier\n",
    "clf = AdaBoostClassifier(n_estimators=69)\n",
    "clf=clf.fit(X_train,y_train)\n",
    "print(\"test score:\",clf.score(X_test,y_test))\n",
    "print(\"train score:\",clf.score(X_train,y_train))"
   ]
  },
  {
   "cell_type": "raw",
   "metadata": {},
   "source": [
    "**the parameters i change**\n",
    "var_smoothing : The maximum number of estimators at which boosting is terminated. In case of perfect fit, the learning procedure is stopped early."
   ]
  },
  {
   "cell_type": "code",
   "execution_count": 12,
   "metadata": {},
   "outputs": [
    {
     "data": {
      "text/plain": [
       "AdaBoostClassifier(algorithm='SAMME.R', base_estimator=None, learning_rate=1.0,\n",
       "                   n_estimators=50, random_state=None)"
      ]
     },
     "execution_count": 12,
     "metadata": {},
     "output_type": "execute_result"
    }
   ],
   "source": [
    "AdaBoostClassifier()"
   ]
  },
  {
   "cell_type": "code",
   "execution_count": 13,
   "metadata": {},
   "outputs": [
    {
     "name": "stdout",
     "output_type": "stream",
     "text": [
      "Score from the PCA\n",
      "test score: 0.35142658315935976\n",
      "train score: 0.3014267168884654\n"
     ]
    }
   ],
   "source": [
    "pca = PCA()\n",
    "pca.fit(X_train)\n",
    "X_t_train = pca.transform(X_train)\n",
    "X_t_test = pca.transform(X_test)\n",
    "print(\"Score from the PCA\")\n",
    "print(\"test score:\",clf.score(X_t_test,y_test))\n",
    "print(\"train score:\",clf.score(X_t_train,y_train))"
   ]
  },
  {
   "cell_type": "markdown",
   "metadata": {},
   "source": [
    "# Logistic Regression"
   ]
  },
  {
   "cell_type": "code",
   "execution_count": 14,
   "metadata": {},
   "outputs": [
    {
     "name": "stdout",
     "output_type": "stream",
     "text": [
      "test score: 0.8469032707028532\n",
      "train score: 0.6314773010685988\n"
     ]
    }
   ],
   "source": [
    "from sklearn.linear_model import LogisticRegression\n",
    "logreg = LogisticRegression(tol=2.3) \n",
    "logreg.fit(X_train, y_train)\n",
    "print(\"test score:\",logreg.score(X_test,y_test))\n",
    "print(\"train score:\",logreg.score(X_train,y_train))"
   ]
  },
  {
   "cell_type": "raw",
   "metadata": {},
   "source": [
    "**the parameters i change**\n",
    "tol : Tolerance for stopping criteria"
   ]
  },
  {
   "cell_type": "code",
   "execution_count": 15,
   "metadata": {},
   "outputs": [
    {
     "data": {
      "text/plain": [
       "LogisticRegression(C=1.0, class_weight=None, dual=False, fit_intercept=True,\n",
       "                   intercept_scaling=1, l1_ratio=None, max_iter=100,\n",
       "                   multi_class='warn', n_jobs=None, penalty='l2',\n",
       "                   random_state=None, solver='warn', tol=0.0001, verbose=0,\n",
       "                   warm_start=False)"
      ]
     },
     "execution_count": 15,
     "metadata": {},
     "output_type": "execute_result"
    }
   ],
   "source": [
    "LogisticRegression() "
   ]
  },
  {
   "cell_type": "code",
   "execution_count": 16,
   "metadata": {},
   "outputs": [
    {
     "name": "stdout",
     "output_type": "stream",
     "text": [
      "Score from the PCA\n",
      "test score: 0.232428670842032\n",
      "train score: 0.3449764345507217\n"
     ]
    }
   ],
   "source": [
    "pca = PCA()\n",
    "pca.fit(X_train)\n",
    "X_t_train = pca.transform(X_train)\n",
    "X_t_test = pca.transform(X_test)\n",
    "print(\"Score from the PCA\")\n",
    "print(\"test score:\",logreg.score(X_t_test,y_test))\n",
    "print(\"train score:\",logreg.score(X_t_train,y_train))"
   ]
  },
  {
   "cell_type": "code",
   "execution_count": null,
   "metadata": {},
   "outputs": [],
   "source": []
  },
  {
   "cell_type": "code",
   "execution_count": null,
   "metadata": {},
   "outputs": [],
   "source": []
  }
 ],
 "metadata": {
  "kernelspec": {
   "display_name": "Python 3",
   "language": "python",
   "name": "python3"
  },
  "language_info": {
   "codemirror_mode": {
    "name": "ipython",
    "version": 3
   },
   "file_extension": ".py",
   "mimetype": "text/x-python",
   "name": "python",
   "nbconvert_exporter": "python",
   "pygments_lexer": "ipython3",
   "version": "3.7.4"
  }
 },
 "nbformat": 4,
 "nbformat_minor": 2
}
